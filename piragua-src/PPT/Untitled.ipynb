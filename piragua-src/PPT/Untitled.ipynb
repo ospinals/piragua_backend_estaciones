{
 "cells": [
  {
   "cell_type": "code",
   "execution_count": 33,
   "id": "c8e5ca36",
   "metadata": {},
   "outputs": [],
   "source": [
    "import pandas as pd\n",
    "import requests\n",
    "import json\n",
    "import os\n",
    "import datetime\n",
    "import numpy as np"
   ]
  },
  {
   "cell_type": "code",
   "execution_count": 4,
   "id": "b121288e",
   "metadata": {},
   "outputs": [],
   "source": [
    "os.makedirs(\"./idw\", exist_ok=True)"
   ]
  },
  {
   "cell_type": "code",
   "execution_count": 6,
   "id": "38e13c9c",
   "metadata": {},
   "outputs": [],
   "source": [
    "r_estaciones = requests.api.get(\"https://www.piraguacorantioquia.com.co/api/v1/estaciones\")"
   ]
  },
  {
   "cell_type": "code",
   "execution_count": 9,
   "id": "c5a10470",
   "metadata": {},
   "outputs": [],
   "source": [
    "estaciones = json.loads(r_estaciones.content)"
   ]
  },
  {
   "cell_type": "code",
   "execution_count": 18,
   "id": "3d9c55ba",
   "metadata": {},
   "outputs": [],
   "source": [
    "df_ppt = pd.DataFrame({int(est[\"codigo\"]):{\"lat\":float(est[\"latitud\"]), \"lon\":float(est[\"longitud\"])} for est in estaciones[\"estaciones\"] if str(est[\"tipo\"]) == \"1\"}).T"
   ]
  },
  {
   "cell_type": "code",
   "execution_count": 20,
   "id": "950134ae",
   "metadata": {},
   "outputs": [],
   "source": [
    "now = datetime.datetime.now()"
   ]
  },
  {
   "cell_type": "code",
   "execution_count": 26,
   "id": "cfc2ef31",
   "metadata": {},
   "outputs": [],
   "source": [
    "start_date = (now - pd.Timedelta(\"24h\")).strftime(\"%Y-%m-%d\")\n"
   ]
  },
  {
   "cell_type": "code",
   "execution_count": 63,
   "id": "d75b11aa",
   "metadata": {},
   "outputs": [
    {
     "name": "stdout",
     "output_type": "stream",
     "text": [
      "26\n",
      "34\n",
      "44\n",
      "48\n",
      "5\n",
      "68\n",
      "73\n",
      "74\n",
      "8\n",
      "81\n",
      "84\n",
      "87\n",
      "88\n",
      "93\n",
      "94\n"
     ]
    }
   ],
   "source": [
    "for i in df_ppt.index:\n",
    "    r_ppt = requests.api.get(f\"https://www.piraguacorantioquia.com.co/api/v1/estaciones/{i}/precipitacion?fecha__gte={start_date}&page=2&size=288\")\n",
    "\n",
    "    data = json.loads(r_ppt.content)\n",
    "    \n",
    "    try:\n",
    "        df_ppt.loc[i, \"ppt\"] = np.array([i[\"muestra\"] for i in data[\"results\"] if float(i[\"muestra\"]) >= 0]).astype(float).sum()\n",
    "    except:\n",
    "        print(i)"
   ]
  },
  {
   "cell_type": "code",
   "execution_count": 101,
   "id": "b0e9441a",
   "metadata": {},
   "outputs": [],
   "source": [
    "df_ppt.dropna().to_csv(f\"{start_date}.csv\", index = False)"
   ]
  },
  {
   "cell_type": "code",
   "execution_count": 102,
   "id": "f9b4dc44",
   "metadata": {},
   "outputs": [],
   "source": [
    "header = f\"\"\"<OGRVRTDataSource>\n",
    "    <OGRVRTLayer name=\"dem\">\n",
    "        <SrcDataSource>{start_date}.csv</SrcDataSource>\n",
    "        <GeometryType>wkbPoint</GeometryType>\n",
    "        <GeometryField encoding=\"PointFromColumns\" x=\"lon\" y=\"lat\" z=\"ppt\"/>\n",
    "    </OGRVRTLayer>\n",
    "</OGRVRTDataSource>\"\"\""
   ]
  },
  {
   "cell_type": "code",
   "execution_count": 103,
   "id": "d1a55b4e",
   "metadata": {},
   "outputs": [],
   "source": [
    "with open(f\"{start_date}.vrt\", \"w\") as f:\n",
    "    f.write(header)"
   ]
  },
  {
   "cell_type": "code",
   "execution_count": 104,
   "id": "c2073f3f",
   "metadata": {},
   "outputs": [
    {
     "name": "stdout",
     "output_type": "stream",
     "text": [
      "Failed to find field ppt on layer dem, skipping.\n"
     ]
    },
    {
     "name": "stderr",
     "output_type": "stream",
     "text": [
      "ERROR 1: Failed to find layer 'dem' on datasource '2022-05-22.csv'.\n"
     ]
    },
    {
     "data": {
      "text/plain": [
       "256"
      ]
     },
     "execution_count": 104,
     "metadata": {},
     "output_type": "execute_result"
    }
   ],
   "source": [
    "os.system(f\"gdal_grid -zfield 'ppt' -a invdist:power=2.0:smoothing=1.0  -outsize 400 400 -of GTiff -ot Float64 -l dem {start_date}.vrt {start_date}.tiff\")\n"
   ]
  },
  {
   "cell_type": "code",
   "execution_count": 105,
   "id": "8ddeea96",
   "metadata": {},
   "outputs": [
    {
     "data": {
      "text/html": [
       "<div>\n",
       "<style scoped>\n",
       "    .dataframe tbody tr th:only-of-type {\n",
       "        vertical-align: middle;\n",
       "    }\n",
       "\n",
       "    .dataframe tbody tr th {\n",
       "        vertical-align: top;\n",
       "    }\n",
       "\n",
       "    .dataframe thead th {\n",
       "        text-align: right;\n",
       "    }\n",
       "</style>\n",
       "<table border=\"1\" class=\"dataframe\">\n",
       "  <thead>\n",
       "    <tr style=\"text-align: right;\">\n",
       "      <th></th>\n",
       "      <th>lat</th>\n",
       "      <th>lon</th>\n",
       "      <th>ppt</th>\n",
       "    </tr>\n",
       "  </thead>\n",
       "  <tbody>\n",
       "    <tr>\n",
       "      <th>1</th>\n",
       "      <td>7.492328</td>\n",
       "      <td>-74.868139</td>\n",
       "      <td>0.000</td>\n",
       "    </tr>\n",
       "    <tr>\n",
       "      <th>10</th>\n",
       "      <td>5.855444</td>\n",
       "      <td>-75.826167</td>\n",
       "      <td>0.000</td>\n",
       "    </tr>\n",
       "    <tr>\n",
       "      <th>11</th>\n",
       "      <td>6.059778</td>\n",
       "      <td>-75.792333</td>\n",
       "      <td>0.000</td>\n",
       "    </tr>\n",
       "    <tr>\n",
       "      <th>12</th>\n",
       "      <td>5.596583</td>\n",
       "      <td>-75.813861</td>\n",
       "      <td>0.000</td>\n",
       "    </tr>\n",
       "    <tr>\n",
       "      <th>13</th>\n",
       "      <td>5.655417</td>\n",
       "      <td>-75.882556</td>\n",
       "      <td>0.000</td>\n",
       "    </tr>\n",
       "    <tr>\n",
       "      <th>...</th>\n",
       "      <td>...</td>\n",
       "      <td>...</td>\n",
       "      <td>...</td>\n",
       "    </tr>\n",
       "    <tr>\n",
       "      <th>94</th>\n",
       "      <td>6.951863</td>\n",
       "      <td>-73.958170</td>\n",
       "      <td>NaN</td>\n",
       "    </tr>\n",
       "    <tr>\n",
       "      <th>95</th>\n",
       "      <td>5.911333</td>\n",
       "      <td>-75.659417</td>\n",
       "      <td>0.000</td>\n",
       "    </tr>\n",
       "    <tr>\n",
       "      <th>96</th>\n",
       "      <td>6.842278</td>\n",
       "      <td>-75.217667</td>\n",
       "      <td>0.254</td>\n",
       "    </tr>\n",
       "    <tr>\n",
       "      <th>97</th>\n",
       "      <td>7.063944</td>\n",
       "      <td>-75.685972</td>\n",
       "      <td>0.000</td>\n",
       "    </tr>\n",
       "    <tr>\n",
       "      <th>98</th>\n",
       "      <td>5.594556</td>\n",
       "      <td>-75.840472</td>\n",
       "      <td>0.000</td>\n",
       "    </tr>\n",
       "  </tbody>\n",
       "</table>\n",
       "<p>96 rows × 3 columns</p>\n",
       "</div>"
      ],
      "text/plain": [
       "         lat        lon    ppt\n",
       "1   7.492328 -74.868139  0.000\n",
       "10  5.855444 -75.826167  0.000\n",
       "11  6.059778 -75.792333  0.000\n",
       "12  5.596583 -75.813861  0.000\n",
       "13  5.655417 -75.882556  0.000\n",
       "..       ...        ...    ...\n",
       "94  6.951863 -73.958170    NaN\n",
       "95  5.911333 -75.659417  0.000\n",
       "96  6.842278 -75.217667  0.254\n",
       "97  7.063944 -75.685972  0.000\n",
       "98  5.594556 -75.840472  0.000\n",
       "\n",
       "[96 rows x 3 columns]"
      ]
     },
     "execution_count": 105,
     "metadata": {},
     "output_type": "execute_result"
    }
   ],
   "source": [
    "df_ppt"
   ]
  }
 ],
 "metadata": {
  "kernelspec": {
   "display_name": "Python 3 (ipykernel)",
   "language": "python",
   "name": "python3"
  },
  "language_info": {
   "codemirror_mode": {
    "name": "ipython",
    "version": 3
   },
   "file_extension": ".py",
   "mimetype": "text/x-python",
   "name": "python",
   "nbconvert_exporter": "python",
   "pygments_lexer": "ipython3",
   "version": "3.9.12"
  }
 },
 "nbformat": 4,
 "nbformat_minor": 5
}
